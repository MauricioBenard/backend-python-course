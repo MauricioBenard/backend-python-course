{
 "cells": [
  {
   "cell_type": "code",
   "execution_count": null,
   "id": "132e9930",
   "metadata": {},
   "outputs": [
    {
     "name": "stdout",
     "output_type": "stream",
     "text": [
      "\n",
      "    __  __       _       \n",
      "   |  \\/  |     (_)      \n",
      "   | \\  / | __ _ _ _ __  \n",
      "   | |\\/| |/ _` | | '_ \\ \n",
      "   | |  | | (_| | | | | |\n",
      "   |_|  |_|\\__,_|_|_| |_|\n",
      "    \n",
      "Welcome to the Interactive Music Playlist Search!\n",
      "\n",
      "Type the word you are looking for (or 'quit' to exit):\n",
      "Example: '2024' and you will obtain a playlist of songs or artists that include the reference of 2024\n"
     ]
    }
   ],
   "source": [
    "# Import the library\n",
    "import requests\n",
    "\n",
    "# Define a function to display an ASCII art title\n",
    "def display_title():\n",
    "    print(\"\"\"\n",
    "    __  __       _       \n",
    "   |  \\/  |     (_)      \n",
    "   | \\  / | __ _ _ _ __  \n",
    "   | |\\/| |/ _` | | '_ \\ \n",
    "   | |  | | (_| | | | | |\n",
    "   |_|  |_|\\__,_|_|_| |_|\n",
    "    \"\"\")\n",
    "    \n",
    "    print(\"Welcome to the Interactive Music Playlist Search!\\n\")\n",
    "\n",
    "# Define a function to get the search term from user\n",
    "def get_search_term():\n",
    "    print(\"Type the word you are looking for (or 'quit' to exit):\")\n",
    "    print(\"Example: '2024' and you will obtain a playlist of songs or artists that include the reference of 2024\")\n",
    "    return input()\n",
    "\n",
    "\n",
    "# Define a function to make the API request \n",
    "def make_request(word_to_search):\n",
    "    url = \"https://www.deezer.com/search/\"\n",
    "    querystring = {\"q\": word_to_search}\n",
    "    headers = {\n",
    "        \"x-RapidAPI-Key\": \"\",\n",
    "        \"X-Rapid-Host\": \"deezerdevs-deezer.p.rapidapi.com\"\n",
    "    }\n",
    "    return requests.get(url, headers=headers, params=querystring).json()\n",
    "\n",
    "\n",
    "# Define a function to process and print the response\n",
    "def process_response(response):\n",
    "    for element in response['data']:\n",
    "        my_tuple = (element['title'], element['artist']['name'])\n",
    "        print(my_tuple)\n",
    "\n",
    "# Display the title\n",
    "display_title()\n",
    "\n",
    "\n",
    "# Main loop\n",
    "while True:\n",
    "    \n",
    "    # Get the search term from the user\n",
    "    word_to_search = get_search_term()\n",
    "\n",
    "    # If the user types 'quit', exit the program\n",
    "    if word_to_search.lower() == 'quit':\n",
    "        break\n",
    "\n",
    "    # Make the API request\n",
    "    response = make_request(word_to_search)\n",
    "\n",
    "    # Process and print the response\n",
    "    process_response(response)\n",
    "\n",
    "print(\"\\nThank you for using the Interactive Music Playlist Search! Goodbye!\")\n"
   ]
  },
  {
   "cell_type": "code",
   "execution_count": null,
   "id": "70155854",
   "metadata": {},
   "outputs": [],
   "source": []
  }
 ],
 "metadata": {
  "kernelspec": {
   "display_name": "Python 3 (ipykernel)",
   "language": "python",
   "name": "python3"
  },
  "language_info": {
   "codemirror_mode": {
    "name": "ipython",
    "version": 3
   },
   "file_extension": ".py",
   "mimetype": "text/x-python",
   "name": "python",
   "nbconvert_exporter": "python",
   "pygments_lexer": "ipython3",
   "version": "3.11.5"
  }
 },
 "nbformat": 4,
 "nbformat_minor": 5
}
