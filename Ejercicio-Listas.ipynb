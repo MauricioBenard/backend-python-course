{
 "cells": [
  {
   "cell_type": "code",
   "execution_count": null,
   "id": "5c195adc",
   "metadata": {},
   "outputs": [
    {
     "name": "stdout",
     "output_type": "stream",
     "text": [
      "Shopping Cart\n",
      "\n",
      " \n",
      "Available Products:\n",
      "1.- Bread \n",
      "2.- Iberic ham \n",
      "3.- Grouyere cheese\n",
      "4.- Black olives\n",
      "5.- Red wine\n",
      "6.- Roses\n",
      "7.- Champagne\n",
      "8.- Belge chocolates\n",
      "\n",
      "Enter a list with the products in this format: Quantity,Product\n",
      "For example: 1,1 2,7 means one Bread and two Champagne Bottles\n"
     ]
    }
   ],
   "source": [
    "# Print a list of Available products\n",
    "print(\"Shopping Cart\\n\")\n",
    "\n",
    "print(\"\"\" \n",
    "Available Products:\n",
    "1.- Bread \n",
    "2.- Iberic ham \n",
    "3.- Grouyere cheese\n",
    "4.- Black olives\n",
    "5.- Red wine\n",
    "6.- Roses\n",
    "7.- Champagne\n",
    "8.- Belge chocolates\n",
    "\"\"\")\n",
    "\n",
    "# Get User Input\n",
    "print(\"Enter a list with the products in this format: Quantity,Product\")\n",
    "print(\"For example: 1,1 2,7 means one Bread and two Champagne Bottles\")\n",
    "\n",
    "# Process the user's input to create a list of lists \n",
    "my_shopping_cart = [list(map(int, item.split(','))) for item in input().split()]\n",
    "\n",
    "# Process the Shopping list\n",
    "print(\"\\n\\nYour cart is:\")\n",
    "\n",
    "# Check if the User's input is a list of lists\n",
    "if type(my_shopping_cart) == list:\n",
    "    # Check if the first element of the shopping cart is a list\n",
    "    if type(my_shopping_cart[0]) == list:\n",
    "        # Loop through each item in the shopping cart\n",
    "        for element in my_shopping_cart:\n",
    "            product = \"\"\n",
    "            # Check the product number and assign the corresponding product name\n",
    "            if element[1] == 1:\n",
    "                product = \"Bread\"\n",
    "            elif element[1] == 2:\n",
    "                product = \"Iberic ham\" \n",
    "            elif element[1] == 3:\n",
    "                product = \"Grouyere cheese\"\n",
    "            elif element[1] == 4:\n",
    "                product = \"Black olives\"\n",
    "            elif element[1] == 5:\n",
    "                product = \"Red wine\"\n",
    "            elif element[1] == 6:\n",
    "                product = \"Roses\"\n",
    "            elif element[1] == 7:\n",
    "                product = \"Champagne\"\n",
    "            elif element[1] == 8:\n",
    "                product = \"Belge chocolates\"\n",
    "            else:\n",
    "                product = \"Unknown product\"\n",
    "                \n",
    "            # Print the quantity and product name\n",
    "            print(\"{} {}\".format(element[0], product))\n",
    "    else:\n",
    "        # Print an error message if the input is not a list of lists\n",
    "        print(\"Incorrect format, you must enter a list of lists\")\n",
    "else:\n",
    "    # Print an error message if the input is not a list\n",
    "    print(\"Incorrect format, you must enter a list\")\n"
   ]
  },
  {
   "cell_type": "code",
   "execution_count": null,
   "id": "1fe5aae9",
   "metadata": {},
   "outputs": [],
   "source": []
  }
 ],
 "metadata": {
  "kernelspec": {
   "display_name": "Python 3 (ipykernel)",
   "language": "python",
   "name": "python3"
  },
  "language_info": {
   "codemirror_mode": {
    "name": "ipython",
    "version": 3
   },
   "file_extension": ".py",
   "mimetype": "text/x-python",
   "name": "python",
   "nbconvert_exporter": "python",
   "pygments_lexer": "ipython3",
   "version": "3.11.5"
  }
 },
 "nbformat": 4,
 "nbformat_minor": 5
}
