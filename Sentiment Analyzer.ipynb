{
 "cells": [
  {
   "cell_type": "code",
   "execution_count": 1,
   "id": "b8685ee7",
   "metadata": {},
   "outputs": [
    {
     "name": "stderr",
     "output_type": "stream",
     "text": [
      "[nltk_data] Downloading package vader_lexicon to\n",
      "[nltk_data]     C:\\Users\\mauri\\AppData\\Roaming\\nltk_data...\n",
      "[nltk_data] Downloading package punkt to\n",
      "[nltk_data]     C:\\Users\\mauri\\AppData\\Roaming\\nltk_data...\n",
      "[nltk_data]   Unzipping tokenizers\\punkt.zip.\n"
     ]
    },
    {
     "data": {
      "text/plain": [
       "True"
      ]
     },
     "execution_count": 1,
     "metadata": {},
     "output_type": "execute_result"
    }
   ],
   "source": [
    "import nltk\n",
    "nltk.download('vader_lexicon')\n",
    "nltk.download('punkt')"
   ]
  },
  {
   "cell_type": "code",
   "execution_count": 5,
   "id": "bc87bb42",
   "metadata": {},
   "outputs": [],
   "source": [
    "import nltk\n",
    "tokenizer = nltk.data.load('tokenizers/punkt/english.pickle')\n",
    "sentences = tokenizer.tokenize(\"During the month of July, the Global Service Desk achieved remarkable success, demonstrating a significant increase in customer satisfaction, prompt issue resolution, and proactive support initiatives, showcasing the team's dedication to delivering exceptional service.\")"
   ]
  },
  {
   "cell_type": "code",
   "execution_count": 8,
   "id": "0c71832a",
   "metadata": {},
   "outputs": [],
   "source": [
    "from nltk.sentiment.vader import SentimentIntensityAnalyzer\n",
    "from nltk import sentiment\n",
    "from nltk import word_tokenize"
   ]
  },
  {
   "cell_type": "code",
   "execution_count": 14,
   "id": "47a9e38e",
   "metadata": {},
   "outputs": [],
   "source": [
    "analizador = SentimentIntensityAnalyzer()"
   ]
  },
  {
   "cell_type": "code",
   "execution_count": 15,
   "id": "9bf1c1a9",
   "metadata": {},
   "outputs": [
    {
     "name": "stdout",
     "output_type": "stream",
     "text": [
      "D\n",
      "neg :  0.0\n",
      "\n",
      "neu :  0.0\n",
      "\n",
      "pos :  0.0\n",
      "\n",
      "compound :  0.0\n",
      "\n"
     ]
    }
   ],
   "source": [
    "for sentence in sentences:\n",
    "    print(sentence)\n",
    "    scores = analizador.polarity_scores(sentence)\n",
    "    for key in scores:\n",
    "        print(key, ': ', scores[key])\n",
    "        print()"
   ]
  },
  {
   "cell_type": "code",
   "execution_count": 19,
   "id": "b2fe212e",
   "metadata": {},
   "outputs": [],
   "source": [
    "import nltk\n",
    "tokenizer = nltk.data.load('tokenizers/punkt/english.pickle')\n",
    "sentences = tokenizer.tokenize(\"The IT department is in charge of managing and maintaining the technological infrastructure of the company, as well as providing support and advice to the other departments. The IT department is essential foir the success of the company, as it contributes to improve productivity, competitiveness and satisfaction of customers and employees.\")\n",
    "\n",
    "                               "
   ]
  },
  {
   "cell_type": "code",
   "execution_count": 20,
   "id": "e5ec1dd8",
   "metadata": {},
   "outputs": [],
   "source": [
    "from nltk.sentiment.vader import SentimentIntensityAnalyzer\n",
    "from nltk import sentiment\n",
    "from nltk import word_tokenize"
   ]
  },
  {
   "cell_type": "code",
   "execution_count": 21,
   "id": "df61fe78",
   "metadata": {},
   "outputs": [
    {
     "name": "stdout",
     "output_type": "stream",
     "text": [
      "The IT department is in charge of managing and maintaining the technological infrastructure of the company, as well as providing support and advice to the other departments.\n",
      "neg :  0.0\n",
      "\n",
      "neu :  0.839\n",
      "\n",
      "pos :  0.161\n",
      "\n",
      "compound :  0.5859\n",
      "\n",
      "The IT department is essential foir the success of the company, as it contributes to improve productivity, competitiveness and satisfaction of customers and employees.\n",
      "neg :  0.0\n",
      "\n",
      "neu :  0.689\n",
      "\n",
      "pos :  0.311\n",
      "\n",
      "compound :  0.8591\n",
      "\n"
     ]
    }
   ],
   "source": [
    "for sentence in sentences:\n",
    "    print(sentence)\n",
    "    scores = analizador.polarity_scores(sentence)\n",
    "    for key in scores:\n",
    "        print(key, ': ', scores[key])\n",
    "        print()"
   ]
  },
  {
   "cell_type": "code",
   "execution_count": null,
   "id": "583ce7f3",
   "metadata": {},
   "outputs": [],
   "source": []
  }
 ],
 "metadata": {
  "kernelspec": {
   "display_name": "Python 3 (ipykernel)",
   "language": "python",
   "name": "python3"
  },
  "language_info": {
   "codemirror_mode": {
    "name": "ipython",
    "version": 3
   },
   "file_extension": ".py",
   "mimetype": "text/x-python",
   "name": "python",
   "nbconvert_exporter": "python",
   "pygments_lexer": "ipython3",
   "version": "3.11.5"
  }
 },
 "nbformat": 4,
 "nbformat_minor": 5
}
