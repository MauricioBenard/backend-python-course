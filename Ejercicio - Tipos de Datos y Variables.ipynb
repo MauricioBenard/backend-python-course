{
 "cells": [
  {
   "cell_type": "code",
   "execution_count": 2,
   "id": "b1d9a439",
   "metadata": {},
   "outputs": [
    {
     "name": "stdout",
     "output_type": "stream",
     "text": [
      "Enter the operation (addition, subtraction, multiplication, division, or power): multiplication\n",
      "Enter the first number: 0o15\n",
      "Enter the second number: 0o31\n",
      "First number: 13\n",
      "Second number: 25\n",
      "Operation: multiplication\n",
      "Result: 325\n"
     ]
    }
   ],
   "source": [
    "def main():\n",
    "    # Ask the user to choose an operation\n",
    "    operation = input(\"Enter the operation (addition, subtraction, multiplication, division, or power): \").lower()\n",
    "\n",
    "    # Ask the user to enter two numbers\n",
    "    num1_str = input(\"Enter the first number: \")\n",
    "    num2_str = input(\"Enter the second number: \")\n",
    "\n",
    "    # Convert the numbers to integers, accepting different formats\n",
    "    try:\n",
    "        number1 = int(num1_str, 0)  # The second argument 0 allows interpreting the number in different formats (decimal, octal, hexadecimal)\n",
    "        number2 = int(num2_str, 0)\n",
    "    except ValueError:\n",
    "        print(\"Please enter valid numbers.\")\n",
    "        return\n",
    "\n",
    "    # Perform the selected operation\n",
    "    if operation == \"addition\":\n",
    "        result = number1 + number2\n",
    "    elif operation == \"subtraction\":\n",
    "        result = number1 - number2\n",
    "    elif operation == \"multiplication\":\n",
    "        result = number1 * number2\n",
    "    elif operation == \"division\":\n",
    "        result = number1 / number2\n",
    "    elif operation == \"power\":\n",
    "        result = number1 ** number2\n",
    "    else:\n",
    "        print(\"Invalid operation.\")\n",
    "        return\n",
    "\n",
    "    # Print the input values, operation, and result\n",
    "    print(f\"First number: {number1}\")\n",
    "    print(f\"Second number: {number2}\")\n",
    "    print(f\"Operation: {operation}\")\n",
    "    print(f\"Result: {result}\")\n",
    "\n",
    "# Call the main function\n",
    "if __name__ == \"__main__\":\n",
    "    main()\n"
   ]
  },
  {
   "cell_type": "code",
   "execution_count": null,
   "id": "c5a583af",
   "metadata": {},
   "outputs": [],
   "source": []
  }
 ],
 "metadata": {
  "kernelspec": {
   "display_name": "Python 3 (ipykernel)",
   "language": "python",
   "name": "python3"
  },
  "language_info": {
   "codemirror_mode": {
    "name": "ipython",
    "version": 3
   },
   "file_extension": ".py",
   "mimetype": "text/x-python",
   "name": "python",
   "nbconvert_exporter": "python",
   "pygments_lexer": "ipython3",
   "version": "3.11.5"
  }
 },
 "nbformat": 4,
 "nbformat_minor": 5
}
