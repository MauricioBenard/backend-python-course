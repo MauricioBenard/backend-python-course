{
 "cells": [
  {
   "cell_type": "code",
   "execution_count": null,
   "id": "4e19786c",
   "metadata": {},
   "outputs": [],
   "source": [
    "def main():\n",
    "    # choose an operation\n",
    "    operation = input(\"Enter the operation (addition, subtraction, multiplication, division, or power): \").lower()\n",
    "\n",
    "    # enter two numbers\n",
    "    num1_str = input(\"Enter the first number: \")\n",
    "    num2_str = input(\"Enter the second number: \")\n",
    "\n",
    "    # Convert the numbers to integers, accepting different formats\n",
    "    try:\n",
    "        number1 = int(num1_str, 0)  \n",
    "        number2 = int(num2_str, 0)\n",
    "    except ValueError:\n",
    "        print(\"Please enter valid numbers.\")\n",
    "        return\n",
    "\n",
    "    # Check if division by zero\n",
    "    if operation == \"division\" and number2 == 0:\n",
    "        print(\"Cannot divide by zero.\")\n",
    "        return\n",
    "\n",
    "    # Perform the selected operation\n",
    "    if operation == \"addition\":\n",
    "        result = number1 + number2\n",
    "    elif operation == \"subtraction\":\n",
    "        result = number1 - number2\n",
    "    elif operation == \"multiplication\":\n",
    "        result = number1 * number2\n",
    "    elif operation == \"division\":\n",
    "        result = number1 / number2\n",
    "    elif operation == \"power\":\n",
    "        result = number1 ** number2\n",
    "    else:\n",
    "        print(\"Invalid operation.\")\n",
    "        return\n",
    "\n",
    "    # Print the input values, operation, and result\n",
    "    print(f\"First number: {number1}\")\n",
    "    print(f\"Second number: {number2}\")\n",
    "    print(f\"Operation: {operation}\")\n",
    "    print(f\"Result: {result}\")\n",
    "\n",
    "# Call the main function\n",
    "if __name__ == \"__main__\":\n",
    "    main()\n"
   ]
  },
  {
   "cell_type": "code",
   "execution_count": null,
   "id": "ea3e23c1",
   "metadata": {},
   "outputs": [],
   "source": []
  }
 ],
 "metadata": {
  "kernelspec": {
   "display_name": "Python 3 (ipykernel)",
   "language": "python",
   "name": "python3"
  },
  "language_info": {
   "codemirror_mode": {
    "name": "ipython",
    "version": 3
   },
   "file_extension": ".py",
   "mimetype": "text/x-python",
   "name": "python",
   "nbconvert_exporter": "python",
   "pygments_lexer": "ipython3",
   "version": "3.11.5"
  }
 },
 "nbformat": 4,
 "nbformat_minor": 5
}
