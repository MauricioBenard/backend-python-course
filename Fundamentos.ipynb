{
 "cells": [
  {
   "cell_type": "markdown",
   "id": "9a89adaf",
   "metadata": {},
   "source": [
    "## Python is case sensitive\n"
   ]
  },
  {
   "cell_type": "markdown",
   "id": "d86cc2c9",
   "metadata": {},
   "source": [
    "### PYTHON RESERVED WORDS"
   ]
  },
  {
   "cell_type": "code",
   "execution_count": 3,
   "id": "c4350f13",
   "metadata": {},
   "outputs": [
    {
     "name": "stdout",
     "output_type": "stream",
     "text": [
      "\n",
      "Here is a list of the Python keywords.  Enter any keyword to get more help.\n",
      "\n",
      "False               class               from                or\n",
      "None                continue            global              pass\n",
      "True                def                 if                  raise\n",
      "and                 del                 import              return\n",
      "as                  elif                in                  try\n",
      "assert              else                is                  while\n",
      "async               except              lambda              with\n",
      "await               finally             nonlocal            yield\n",
      "break               for                 not                 \n",
      "\n"
     ]
    }
   ],
   "source": [
    "help (\"keywords\")"
   ]
  },
  {
   "cell_type": "code",
   "execution_count": 4,
   "id": "ed14b343",
   "metadata": {},
   "outputs": [
    {
     "data": {
      "text/plain": [
       "\"\\\\ ' \""
      ]
     },
     "execution_count": 4,
     "metadata": {},
     "output_type": "execute_result"
    }
   ],
   "source": [
    "\"\\ ' \" #Single quote- comilla sencilla   Es un escape con cdoble comilla, agregando la diagonal invertida"
   ]
  },
  {
   "cell_type": "code",
   "execution_count": 5,
   "id": "e9c1fe09",
   "metadata": {},
   "outputs": [
    {
     "data": {
      "text/plain": [
       "'\\n'"
      ]
     },
     "execution_count": 5,
     "metadata": {},
     "output_type": "execute_result"
    }
   ],
   "source": [
    "\"\\n\" # New Line- Salto de Linea"
   ]
  },
  {
   "cell_type": "code",
   "execution_count": 9,
   "id": "d1a09867",
   "metadata": {},
   "outputs": [
    {
     "name": "stdout",
     "output_type": "stream",
     "text": [
      "Backend Python \n",
      "De Ebac\n"
     ]
    }
   ],
   "source": [
    "my_course = \"Backend Python \\nDe Ebac\"\n",
    "print(my_course)"
   ]
  },
  {
   "cell_type": "code",
   "execution_count": 10,
   "id": "33e24c87",
   "metadata": {},
   "outputs": [
    {
     "data": {
      "text/plain": [
       "'\\t'"
      ]
     },
     "execution_count": 10,
     "metadata": {},
     "output_type": "execute_result"
    }
   ],
   "source": [
    "\"\\t\"  #Tab"
   ]
  },
  {
   "cell_type": "code",
   "execution_count": 11,
   "id": "8248235e",
   "metadata": {},
   "outputs": [
    {
     "name": "stdout",
     "output_type": "stream",
     "text": [
      "Backend Python \tDe Ebac\n"
     ]
    }
   ],
   "source": [
    "my_course = \"Backend Python \\tDe Ebac\"\n",
    "print(my_course)"
   ]
  },
  {
   "cell_type": "code",
   "execution_count": 13,
   "id": "d04f07d7",
   "metadata": {},
   "outputs": [
    {
     "name": "stdout",
     "output_type": "stream",
     "text": [
      "Backend\tPython \tDe Ebac\n"
     ]
    }
   ],
   "source": [
    "my_course = \"Backend\\tPython \\tDe Ebac\"\n",
    "print(my_course)"
   ]
  },
  {
   "cell_type": "code",
   "execution_count": 14,
   "id": "ef0858bc",
   "metadata": {},
   "outputs": [
    {
     "data": {
      "text/plain": [
       "'\\r'"
      ]
     },
     "execution_count": 14,
     "metadata": {},
     "output_type": "execute_result"
    }
   ],
   "source": [
    "\"\\r\" #Carriage return - it makes that Python start writing after r is placed"
   ]
  },
  {
   "cell_type": "code",
   "execution_count": 15,
   "id": "9e0f9e44",
   "metadata": {},
   "outputs": [
    {
     "name": "stdout",
     "output_type": "stream",
     "text": [
      "De Ebac\n"
     ]
    }
   ],
   "source": [
    "my_course = \"Backend\\tPython \\rDe Ebac\"\n",
    "print(my_course)"
   ]
  },
  {
   "cell_type": "code",
   "execution_count": 16,
   "id": "0e7f9f39",
   "metadata": {},
   "outputs": [
    {
     "data": {
      "text/plain": [
       "'\\x08'"
      ]
     },
     "execution_count": 16,
     "metadata": {},
     "output_type": "execute_result"
    }
   ],
   "source": [
    "\"\\b\" #back space o retorno elimina caracter previo    #si pones dos, elimina los dos"
   ]
  },
  {
   "cell_type": "code",
   "execution_count": 19,
   "id": "d9cc522e",
   "metadata": {},
   "outputs": [
    {
     "name": "stdout",
     "output_type": "stream",
     "text": [
      "Backend\bPython de Ebac\n"
     ]
    }
   ],
   "source": [
    "my_course = \"Backend\\bPython de Ebac\"\n",
    "print(my_course)"
   ]
  },
  {
   "cell_type": "markdown",
   "id": "c8821dad",
   "metadata": {},
   "source": [
    "# FUNCION EVAL "
   ]
  },
  {
   "cell_type": "code",
   "execution_count": 20,
   "id": "f81737f9",
   "metadata": {},
   "outputs": [
    {
     "name": "stdout",
     "output_type": "stream",
     "text": [
      "my_number+1000\n"
     ]
    }
   ],
   "source": [
    "my_number = 22\n",
    "print(\"my_number+1000\")"
   ]
  },
  {
   "cell_type": "code",
   "execution_count": null,
   "id": "208ac3d2",
   "metadata": {},
   "outputs": [],
   "source": [
    "my_number = 22\n",
    "print(eval(\"my_number+1000\"))"
   ]
  },
  {
   "cell_type": "code",
   "execution_count": null,
   "id": "ec64f007",
   "metadata": {},
   "outputs": [],
   "source": [
    "my_input = input(\"type a number: \")\n",
    "print(my_input)\n",
    "print(type(my_input))\n",
    "#string o cadena"
   ]
  },
  {
   "cell_type": "markdown",
   "id": "7267dc02",
   "metadata": {},
   "source": [
    "#FUNCION range () Y xrange()"
   ]
  },
  {
   "cell_type": "code",
   "execution_count": null,
   "id": "ab22651c",
   "metadata": {},
   "outputs": [],
   "source": [
    "x = range(0, 10)"
   ]
  },
  {
   "cell_type": "markdown",
   "id": "4de08855",
   "metadata": {},
   "source": [
    "# MUTABILIDAD E INMUTABILIDAD "
   ]
  },
  {
   "cell_type": "code",
   "execution_count": 1,
   "id": "bd5e9a12",
   "metadata": {},
   "outputs": [
    {
     "ename": "TypeError",
     "evalue": "'type' object does not support item assignment",
     "output_type": "error",
     "traceback": [
      "\u001b[1;31m---------------------------------------------------------------------------\u001b[0m",
      "\u001b[1;31mTypeError\u001b[0m                                 Traceback (most recent call last)",
      "Cell \u001b[1;32mIn[1], line 1\u001b[0m\n\u001b[1;32m----> 1\u001b[0m \u001b[38;5;28mtuple\u001b[39m [\u001b[38;5;241m0\u001b[39m] \u001b[38;5;241m=\u001b[39m \u001b[38;5;241m10\u001b[39m\n",
      "\u001b[1;31mTypeError\u001b[0m: 'type' object does not support item assignment"
     ]
    }
   ],
   "source": [
    "tuple [0] = 10    #it wont work cause the tuples are immutables"
   ]
  },
  {
   "cell_type": "code",
   "execution_count": 18,
   "id": "7278362e",
   "metadata": {},
   "outputs": [
    {
     "data": {
      "text/plain": [
       "('coffee', 'shampoo', 'napkins', 'avocados')"
      ]
     },
     "execution_count": 18,
     "metadata": {},
     "output_type": "execute_result"
    }
   ],
   "source": [
    "ShoppingList\n"
   ]
  },
  {
   "cell_type": "code",
   "execution_count": 19,
   "id": "1b6317f7",
   "metadata": {},
   "outputs": [],
   "source": [
    "ShoppingList = (\"coffee\", \"shampoo\",\"napkins\", \"avocados\" )"
   ]
  },
  {
   "cell_type": "code",
   "execution_count": 21,
   "id": "27a4cce1",
   "metadata": {},
   "outputs": [
    {
     "data": {
      "text/plain": [
       "('coffee', 'shampoo', 'napkins', 'avocados')"
      ]
     },
     "execution_count": 21,
     "metadata": {},
     "output_type": "execute_result"
    }
   ],
   "source": [
    "ShoppingList"
   ]
  },
  {
   "cell_type": "markdown",
   "id": "ef7bc636",
   "metadata": {},
   "source": [
    "# PRINT FUNCTION"
   ]
  },
  {
   "cell_type": "code",
   "execution_count": 25,
   "id": "5da8a29a",
   "metadata": {},
   "outputs": [
    {
     "name": "stdout",
     "output_type": "stream",
     "text": [
      "The value of my_var is:  666\n"
     ]
    }
   ],
   "source": [
    "my_var = 666\n",
    "print (\"The value of my_var is: \" , my_var)"
   ]
  },
  {
   "cell_type": "code",
   "execution_count": 32,
   "id": "25d3f622",
   "metadata": {},
   "outputs": [
    {
     "name": "stdout",
     "output_type": "stream",
     "text": [
      "the team took:  86 interactions\n"
     ]
    }
   ],
   "source": [
    "# Calculate how much interactions were received yesterday by our office\n",
    "John = 20\n",
    "Julie = 27\n",
    "Kevin = 23\n",
    "Soph = 16\n",
    "\n",
    "calls = John+Julie+Kevin+Soph\n",
    "\n",
    "print(\"the team took: \" , calls, \"interactions\")"
   ]
  },
  {
   "cell_type": "code",
   "execution_count": 35,
   "id": "898dc7ca",
   "metadata": {},
   "outputs": [],
   "source": [
    "import builtins"
   ]
  },
  {
   "cell_type": "code",
   "execution_count": 36,
   "id": "4585abb4",
   "metadata": {},
   "outputs": [
    {
     "name": "stdout",
     "output_type": "stream",
     "text": [
      "Help on built-in function print in module builtins:\n",
      "\n",
      "print(*args, sep=' ', end='\\n', file=None, flush=False)\n",
      "    Prints the values to a stream, or to sys.stdout by default.\n",
      "    \n",
      "    sep\n",
      "      string inserted between values, default a space.\n",
      "    end\n",
      "      string appended after the last value, default a newline.\n",
      "    file\n",
      "      a file-like object (stream); defaults to the current sys.stdout.\n",
      "    flush\n",
      "      whether to forcibly flush the stream.\n",
      "\n"
     ]
    }
   ],
   "source": [
    "help(builtins.print)"
   ]
  },
  {
   "cell_type": "code",
   "execution_count": 37,
   "id": "9c17fb30",
   "metadata": {},
   "outputs": [
    {
     "data": {
      "text/plain": [
       "['ArithmeticError',\n",
       " 'AssertionError',\n",
       " 'AttributeError',\n",
       " 'BaseException',\n",
       " 'BaseExceptionGroup',\n",
       " 'BlockingIOError',\n",
       " 'BrokenPipeError',\n",
       " 'BufferError',\n",
       " 'BytesWarning',\n",
       " 'ChildProcessError',\n",
       " 'ConnectionAbortedError',\n",
       " 'ConnectionError',\n",
       " 'ConnectionRefusedError',\n",
       " 'ConnectionResetError',\n",
       " 'DeprecationWarning',\n",
       " 'EOFError',\n",
       " 'Ellipsis',\n",
       " 'EncodingWarning',\n",
       " 'EnvironmentError',\n",
       " 'Exception',\n",
       " 'ExceptionGroup',\n",
       " 'False',\n",
       " 'FileExistsError',\n",
       " 'FileNotFoundError',\n",
       " 'FloatingPointError',\n",
       " 'FutureWarning',\n",
       " 'GeneratorExit',\n",
       " 'IOError',\n",
       " 'ImportError',\n",
       " 'ImportWarning',\n",
       " 'IndentationError',\n",
       " 'IndexError',\n",
       " 'InterruptedError',\n",
       " 'IsADirectoryError',\n",
       " 'KeyError',\n",
       " 'KeyboardInterrupt',\n",
       " 'LookupError',\n",
       " 'MemoryError',\n",
       " 'ModuleNotFoundError',\n",
       " 'NameError',\n",
       " 'None',\n",
       " 'NotADirectoryError',\n",
       " 'NotImplemented',\n",
       " 'NotImplementedError',\n",
       " 'OSError',\n",
       " 'OverflowError',\n",
       " 'PendingDeprecationWarning',\n",
       " 'PermissionError',\n",
       " 'ProcessLookupError',\n",
       " 'RecursionError',\n",
       " 'ReferenceError',\n",
       " 'ResourceWarning',\n",
       " 'RuntimeError',\n",
       " 'RuntimeWarning',\n",
       " 'StopAsyncIteration',\n",
       " 'StopIteration',\n",
       " 'SyntaxError',\n",
       " 'SyntaxWarning',\n",
       " 'SystemError',\n",
       " 'SystemExit',\n",
       " 'TabError',\n",
       " 'TimeoutError',\n",
       " 'True',\n",
       " 'TypeError',\n",
       " 'UnboundLocalError',\n",
       " 'UnicodeDecodeError',\n",
       " 'UnicodeEncodeError',\n",
       " 'UnicodeError',\n",
       " 'UnicodeTranslateError',\n",
       " 'UnicodeWarning',\n",
       " 'UserWarning',\n",
       " 'ValueError',\n",
       " 'Warning',\n",
       " 'WindowsError',\n",
       " 'ZeroDivisionError',\n",
       " '__IPYTHON__',\n",
       " '__build_class__',\n",
       " '__debug__',\n",
       " '__doc__',\n",
       " '__import__',\n",
       " '__loader__',\n",
       " '__name__',\n",
       " '__package__',\n",
       " '__spec__',\n",
       " 'abs',\n",
       " 'aiter',\n",
       " 'all',\n",
       " 'anext',\n",
       " 'any',\n",
       " 'ascii',\n",
       " 'bin',\n",
       " 'bool',\n",
       " 'breakpoint',\n",
       " 'bytearray',\n",
       " 'bytes',\n",
       " 'callable',\n",
       " 'chr',\n",
       " 'classmethod',\n",
       " 'compile',\n",
       " 'complex',\n",
       " 'copyright',\n",
       " 'credits',\n",
       " 'delattr',\n",
       " 'dict',\n",
       " 'dir',\n",
       " 'display',\n",
       " 'divmod',\n",
       " 'enumerate',\n",
       " 'eval',\n",
       " 'exec',\n",
       " 'execfile',\n",
       " 'filter',\n",
       " 'float',\n",
       " 'format',\n",
       " 'frozenset',\n",
       " 'get_ipython',\n",
       " 'getattr',\n",
       " 'globals',\n",
       " 'hasattr',\n",
       " 'hash',\n",
       " 'help',\n",
       " 'hex',\n",
       " 'id',\n",
       " 'input',\n",
       " 'int',\n",
       " 'isinstance',\n",
       " 'issubclass',\n",
       " 'iter',\n",
       " 'len',\n",
       " 'license',\n",
       " 'list',\n",
       " 'locals',\n",
       " 'map',\n",
       " 'max',\n",
       " 'memoryview',\n",
       " 'min',\n",
       " 'next',\n",
       " 'object',\n",
       " 'oct',\n",
       " 'open',\n",
       " 'ord',\n",
       " 'pow',\n",
       " 'print',\n",
       " 'property',\n",
       " 'range',\n",
       " 'repr',\n",
       " 'reversed',\n",
       " 'round',\n",
       " 'runfile',\n",
       " 'set',\n",
       " 'setattr',\n",
       " 'slice',\n",
       " 'sorted',\n",
       " 'staticmethod',\n",
       " 'str',\n",
       " 'sum',\n",
       " 'super',\n",
       " 'tuple',\n",
       " 'type',\n",
       " 'vars',\n",
       " 'zip']"
      ]
     },
     "execution_count": 37,
     "metadata": {},
     "output_type": "execute_result"
    }
   ],
   "source": [
    "dir(builtins)"
   ]
  },
  {
   "cell_type": "markdown",
   "id": "0ac51d1e",
   "metadata": {},
   "source": [
    "# Type() function "
   ]
  },
  {
   "cell_type": "code",
   "execution_count": 38,
   "id": "569d57f2",
   "metadata": {},
   "outputs": [
    {
     "name": "stdout",
     "output_type": "stream",
     "text": [
      "Im a Deep House DJ\n",
      "<class 'str'>\n"
     ]
    }
   ],
   "source": [
    "string = \"Im a Deep House DJ\"\n",
    "print(string)\n",
    "print (type(string))"
   ]
  },
  {
   "cell_type": "code",
   "execution_count": 40,
   "id": "afc4156b",
   "metadata": {},
   "outputs": [
    {
     "name": "stdout",
     "output_type": "stream",
     "text": [
      "True\n",
      "<class 'bool'>\n"
     ]
    }
   ],
   "source": [
    "# The word True, has to be written with capital \"T\" or it would be converted or simply it wont work\n",
    "my_bol = True                       \n",
    "print(my_bol)\n",
    "print(type(my_bol))\n",
    "\n"
   ]
  },
  {
   "cell_type": "markdown",
   "id": "9f16fa33",
   "metadata": {},
   "source": [
    "# Lists"
   ]
  },
  {
   "cell_type": "code",
   "execution_count": 41,
   "id": "18e2a3ac",
   "metadata": {},
   "outputs": [
    {
     "name": "stdout",
     "output_type": "stream",
     "text": [
      "[25, 32, 48]\n",
      "<class 'list'>\n"
     ]
    }
   ],
   "source": [
    "my_list = [25, 32, 48]\n",
    "print(my_list)\n",
    "print(type(my_list))\n",
    "\n"
   ]
  },
  {
   "cell_type": "markdown",
   "id": "3f43ca67",
   "metadata": {},
   "source": [
    "# Tuples"
   ]
  },
  {
   "cell_type": "code",
   "execution_count": 42,
   "id": "207233ef",
   "metadata": {},
   "outputs": [
    {
     "name": "stdout",
     "output_type": "stream",
     "text": [
      "(45, 38, 97)\n",
      "<class 'tuple'>\n"
     ]
    }
   ],
   "source": [
    "my_tup = (45, 38, 97)\n",
    "print(my_tup)\n",
    "print(type(my_tup))"
   ]
  },
  {
   "cell_type": "markdown",
   "id": "d30040f3",
   "metadata": {},
   "source": [
    "# SETS"
   ]
  },
  {
   "cell_type": "code",
   "execution_count": 43,
   "id": "42ff42c3",
   "metadata": {},
   "outputs": [],
   "source": [
    "# they can be full convined"
   ]
  },
  {
   "cell_type": "code",
   "execution_count": 49,
   "id": "ea7b96cf",
   "metadata": {},
   "outputs": [
    {
     "name": "stdout",
     "output_type": "stream",
     "text": [
      "{'the incomes for this month is 27.5, millions'}\n",
      "<class 'set'>\n"
     ]
    }
   ],
   "source": [
    "my_set = {\"the incomes for this month is 27.5, millions\"}\n",
    "print(my_set)\n",
    "print(type(my_set))"
   ]
  },
  {
   "cell_type": "markdown",
   "id": "9cd1fae4",
   "metadata": {},
   "source": [
    "# Dictionaries"
   ]
  },
  {
   "cell_type": "code",
   "execution_count": 51,
   "id": "8aad58f9",
   "metadata": {},
   "outputs": [
    {
     "name": "stdout",
     "output_type": "stream",
     "text": [
      "{'ryan': 25, 'step': 38, 'jack': 55}\n",
      "<class 'dict'>\n"
     ]
    }
   ],
   "source": [
    "my_dict = {\"ryan\": 25, \"step\":38, \"jack\": 55}\n",
    "print(my_dict)\n",
    "print(type(my_dict))"
   ]
  },
  {
   "cell_type": "markdown",
   "id": "2edf8c7c",
   "metadata": {},
   "source": [
    "# MULTIPLE ENTRIES VALUES "
   ]
  },
  {
   "cell_type": "code",
   "execution_count": null,
   "id": "59e0d68e",
   "metadata": {},
   "outputs": [],
   "source": [
    "my_business_value = input(\"My business Value is:, \")\n",
    "print(\"my_business_value is: \", my_business_value)"
   ]
  },
  {
   "cell_type": "code",
   "execution_count": null,
   "id": "743d2f80",
   "metadata": {},
   "outputs": [],
   "source": [
    "a,b,c = input(\"My business Value is: \").split()\n",
    "print(\"the value of a is: \" ,a)\n",
    "print(\"the value of b is: \" ,b)\n",
    "print(\"the value of c is: \" ,c)"
   ]
  },
  {
   "cell_type": "markdown",
   "id": "22caaa50",
   "metadata": {},
   "source": [
    "# other altern way of achieving it "
   ]
  },
  {
   "cell_type": "code",
   "execution_count": 1,
   "id": "ecb8cb0a",
   "metadata": {},
   "outputs": [
    {
     "name": "stdout",
     "output_type": "stream",
     "text": [
      "Type the values separated by a coma: 300, 500, 700\n",
      "the value of a is:  300\n",
      "the value of b is:   500\n",
      "the value of c is:   700\n"
     ]
    }
   ],
   "source": [
    "a,b,c = input(\"Type the values separated by a coma: \").split(\",\")\n",
    "print(\"the value of a is: \" ,a)\n",
    "print(\"the value of b is: \" ,b)\n",
    "print(\"the value of c is: \" ,c)"
   ]
  }
 ],
 "metadata": {
  "kernelspec": {
   "display_name": "Python 3 (ipykernel)",
   "language": "python",
   "name": "python3"
  },
  "language_info": {
   "codemirror_mode": {
    "name": "ipython",
    "version": 3
   },
   "file_extension": ".py",
   "mimetype": "text/x-python",
   "name": "python",
   "nbconvert_exporter": "python",
   "pygments_lexer": "ipython3",
   "version": "3.11.5"
  }
 },
 "nbformat": 4,
 "nbformat_minor": 5
}
